{
 "cells": [
  {
   "cell_type": "markdown",
   "metadata": {
    "id": "1TlqGri63luI"
   },
   "source": [
    "# Taking SQL query results and exporting the Data into Excel\n",
    "This Python notebook is to create excel files out of SQL query results that can be imported into Tableau."
   ]
  },
  {
   "cell_type": "markdown",
   "metadata": {
    "id": "Sg55decn5ahp"
   },
   "source": [
    "## Connect to Google Drive (if needed)\n",
    "If you're working on a project like this using Google Drive (like I am) than it is necessary to for your Python Notebook to have access to your Drive account to edit/modify using the code below:"
   ]
  },
  {
   "cell_type": "code",
   "execution_count": 16,
   "metadata": {
    "colab": {
     "base_uri": "https://localhost:8080/"
    },
    "executionInfo": {
     "elapsed": 1717,
     "status": "ok",
     "timestamp": 1645296680612,
     "user": {
      "displayName": "James Wolfe",
      "photoUrl": "https://lh3.googleusercontent.com/a-/AOh14GjniFB9tD5BdLBJA15GSIxZ-ItGzbUjXLrJb8IrwQ=s64",
      "userId": "02458012257526617222"
     },
     "user_tz": 300
    },
    "id": "oCWXyLoF5fgK",
    "outputId": "6ae75977-f0fd-4552-e4c1-ee0e9bb24652"
   },
   "outputs": [
    {
     "name": "stdout",
     "output_type": "stream",
     "text": [
      "Drive already mounted at /content/drive; to attempt to forcibly remount, call drive.mount(\"/content/drive\", force_remount=True).\n"
     ]
    }
   ],
   "source": [
    "from google.colab import drive\n",
    "drive.mount(\"/content/drive\")"
   ]
  },
  {
   "cell_type": "markdown",
   "metadata": {
    "id": "dhxJXOOT54ga"
   },
   "source": [
    "## Import the necessary modules\n",
    "\n",
    "To execute SQL queries in this notebook, I need 3 modules in Python to read the results of the SQL queries. They are:\n",
    "\n",
    "..."
   ]
  },
  {
   "cell_type": "code",
   "execution_count": 1,
   "metadata": {
    "executionInfo": {
     "elapsed": 251,
     "status": "ok",
     "timestamp": 1645296687086,
     "user": {
      "displayName": "James Wolfe",
      "photoUrl": "https://lh3.googleusercontent.com/a-/AOh14GjniFB9tD5BdLBJA15GSIxZ-ItGzbUjXLrJb8IrwQ=s64",
      "userId": "02458012257526617222"
     },
     "user_tz": 300
    },
    "id": "tuBLfx-fJKTO"
   },
   "outputs": [],
   "source": [
    "import pandas as pd\n",
    "import sqlite3\n",
    "from sqlalchemy import create_engine"
   ]
  },
  {
   "cell_type": "markdown",
   "metadata": {
    "id": "knsAMe9pJKjN"
   },
   "source": [
    "## Connecting to the `COVID_DB` database\n",
    "\n",
    "We'll need a connection to the `COVID_DB` database using an engine. An engine in this case is: an abstraction of the database. It needs to be created using SQLAlchemy's `create_engine` method in Python. I'll name this instance as `my_conn` for \"my connection\"."
   ]
  },
  {
   "cell_type": "markdown",
   "metadata": {},
   "source": [
    "If I'm using my Google Drive Account:"
   ]
  },
  {
   "cell_type": "code",
   "execution_count": 2,
   "metadata": {
    "executionInfo": {
     "elapsed": 289,
     "status": "ok",
     "timestamp": 1645296689217,
     "user": {
      "displayName": "James Wolfe",
      "photoUrl": "https://lh3.googleusercontent.com/a-/AOh14GjniFB9tD5BdLBJA15GSIxZ-ItGzbUjXLrJb8IrwQ=s64",
      "userId": "02458012257526617222"
     },
     "user_tz": 300
    },
    "id": "DSnxvhfMJMIn"
   },
   "outputs": [],
   "source": [
    "my_conn = create_engine(\"sqlite:////content/drive/MyDrive/Documents/Data Analysis Projects/Tableau Project for COVID/COVID_DB.db\")"
   ]
  },
  {
   "cell_type": "markdown",
   "metadata": {},
   "source": [
    "If I'm using your own computer:"
   ]
  },
  {
   "cell_type": "code",
   "execution_count": 9,
   "metadata": {},
   "outputs": [],
   "source": [
    "my_conn = create_engine(r\"sqlite:///C:\\Users\\jcwol\\Google Drive\\Documents\\Data Analysis Projects\\Tableau Project for COVID/COVID_DB.db\")"
   ]
  },
  {
   "cell_type": "markdown",
   "metadata": {
    "id": "PY_3bwrFMnGQ"
   },
   "source": [
    "## The necessary Query results for Tableau"
   ]
  },
  {
   "cell_type": "markdown",
   "metadata": {
    "id": "-9gquBmYNPLH"
   },
   "source": [
    "#### The total amount of death in all COVID-19 cases globally."
   ]
  },
  {
   "cell_type": "code",
   "execution_count": 25,
   "metadata": {
    "executionInfo": {
     "elapsed": 254,
     "status": "ok",
     "timestamp": 1645296701359,
     "user": {
      "displayName": "James Wolfe",
      "photoUrl": "https://lh3.googleusercontent.com/a-/AOh14GjniFB9tD5BdLBJA15GSIxZ-ItGzbUjXLrJb8IrwQ=s64",
      "userId": "02458012257526617222"
     },
     "user_tz": 300
    },
    "id": "Y_qTHigDMyBV"
   },
   "outputs": [],
   "source": [
    "sql_query = '''\n",
    "Select SUM(new_cases) as total_cases, SUM(cast(new_deaths as int)) as total_deaths, SUM(cast(new_deaths as int))/SUM(New_Cases)*100 as DeathPercentage\n",
    "From CovidDeaths\n",
    "where continent is not null \n",
    "order by 1,2\n",
    "'''"
   ]
  },
  {
   "cell_type": "code",
   "execution_count": 26,
   "metadata": {
    "executionInfo": {
     "elapsed": 264,
     "status": "ok",
     "timestamp": 1645296702947,
     "user": {
      "displayName": "James Wolfe",
      "photoUrl": "https://lh3.googleusercontent.com/a-/AOh14GjniFB9tD5BdLBJA15GSIxZ-ItGzbUjXLrJb8IrwQ=s64",
      "userId": "02458012257526617222"
     },
     "user_tz": 300
    },
    "id": "FrQlXNn6NDJr"
   },
   "outputs": [],
   "source": [
    "sql_df = pd.read_sql_query(sql_query, my_conn)"
   ]
  },
  {
   "cell_type": "code",
   "execution_count": 27,
   "metadata": {
    "colab": {
     "base_uri": "https://localhost:8080/",
     "height": 81
    },
    "executionInfo": {
     "elapsed": 244,
     "status": "ok",
     "timestamp": 1645296704333,
     "user": {
      "displayName": "James Wolfe",
      "photoUrl": "https://lh3.googleusercontent.com/a-/AOh14GjniFB9tD5BdLBJA15GSIxZ-ItGzbUjXLrJb8IrwQ=s64",
      "userId": "02458012257526617222"
     },
     "user_tz": 300
    },
    "id": "BvuofxCGNGKI",
    "outputId": "18978fc3-22d4-4084-8b01-8d52e14b7bfb"
   },
   "outputs": [
    {
     "data": {
      "text/html": [
       "<div>\n",
       "<style scoped>\n",
       "    .dataframe tbody tr th:only-of-type {\n",
       "        vertical-align: middle;\n",
       "    }\n",
       "\n",
       "    .dataframe tbody tr th {\n",
       "        vertical-align: top;\n",
       "    }\n",
       "\n",
       "    .dataframe thead th {\n",
       "        text-align: right;\n",
       "    }\n",
       "</style>\n",
       "<table border=\"1\" class=\"dataframe\">\n",
       "  <thead>\n",
       "    <tr style=\"text-align: right;\">\n",
       "      <th></th>\n",
       "      <th>total_cases</th>\n",
       "      <th>total_deaths</th>\n",
       "      <th>DeathPercentage</th>\n",
       "    </tr>\n",
       "  </thead>\n",
       "  <tbody>\n",
       "    <tr>\n",
       "      <th>0</th>\n",
       "      <td>361843043.0</td>\n",
       "      <td>5601157</td>\n",
       "      <td>1.547952</td>\n",
       "    </tr>\n",
       "  </tbody>\n",
       "</table>\n",
       "</div>"
      ],
      "text/plain": [
       "   total_cases  total_deaths  DeathPercentage\n",
       "0  361843043.0       5601157         1.547952"
      ]
     },
     "execution_count": 27,
     "metadata": {},
     "output_type": "execute_result"
    }
   ],
   "source": [
    "sql_df"
   ]
  },
  {
   "cell_type": "markdown",
   "metadata": {
    "id": "SvxBaMnbPULg"
   },
   "source": [
    "Let's convert result into `Tableau_Tbl1.xlsx`"
   ]
  },
  {
   "cell_type": "code",
   "execution_count": 28,
   "metadata": {
    "executionInfo": {
     "elapsed": 244,
     "status": "ok",
     "timestamp": 1645296708179,
     "user": {
      "displayName": "James Wolfe",
      "photoUrl": "https://lh3.googleusercontent.com/a-/AOh14GjniFB9tD5BdLBJA15GSIxZ-ItGzbUjXLrJb8IrwQ=s64",
      "userId": "02458012257526617222"
     },
     "user_tz": 300
    },
    "id": "z77FHUKvPlVG"
   },
   "outputs": [],
   "source": [
    "with pd.ExcelWriter(\"Tableau_Tbl1.xlsx\") as Writer:\n",
    "  sql_df.to_excel(Writer, index=False)"
   ]
  },
  {
   "cell_type": "markdown",
   "metadata": {
    "id": "U31mpI4eNhKk"
   },
   "source": [
    "#### Total Death count from COVID based on Continent location and not including location with names like \"income\" in it."
   ]
  },
  {
   "cell_type": "code",
   "execution_count": 29,
   "metadata": {
    "id": "VwB9IU_eN6ud"
   },
   "outputs": [],
   "source": [
    "sql_query = '''\n",
    "Select location, SUM(cast(new_deaths as int)) as TotalDeathCount\n",
    "From CovidDeaths\n",
    "Where continent is null \n",
    "and location not in ('World', 'European Union', 'International')\n",
    "and location not like '%income%'\n",
    "Group by location\n",
    "order by TotalDeathCount desc\n",
    "'''"
   ]
  },
  {
   "cell_type": "code",
   "execution_count": 30,
   "metadata": {
    "id": "cSrMPgL4OXw7"
   },
   "outputs": [],
   "source": [
    "sql_df = pd.read_sql_query(sql_query, my_conn)"
   ]
  },
  {
   "cell_type": "code",
   "execution_count": 31,
   "metadata": {
    "colab": {
     "base_uri": "https://localhost:8080/",
     "height": 81
    },
    "executionInfo": {
     "elapsed": 235,
     "status": "ok",
     "timestamp": 1645295027714,
     "user": {
      "displayName": "James Wolfe",
      "photoUrl": "https://lh3.googleusercontent.com/a-/AOh14GjniFB9tD5BdLBJA15GSIxZ-ItGzbUjXLrJb8IrwQ=s64",
      "userId": "02458012257526617222"
     },
     "user_tz": 300
    },
    "id": "GqhfifPXOaxE",
    "outputId": "de8b2e0c-064f-43f5-d9a7-5ccf6e8ba117"
   },
   "outputs": [
    {
     "data": {
      "text/html": [
       "<div>\n",
       "<style scoped>\n",
       "    .dataframe tbody tr th:only-of-type {\n",
       "        vertical-align: middle;\n",
       "    }\n",
       "\n",
       "    .dataframe tbody tr th {\n",
       "        vertical-align: top;\n",
       "    }\n",
       "\n",
       "    .dataframe thead th {\n",
       "        text-align: right;\n",
       "    }\n",
       "</style>\n",
       "<table border=\"1\" class=\"dataframe\">\n",
       "  <thead>\n",
       "    <tr style=\"text-align: right;\">\n",
       "      <th></th>\n",
       "      <th>location</th>\n",
       "      <th>TotalDeathCount</th>\n",
       "    </tr>\n",
       "  </thead>\n",
       "  <tbody>\n",
       "    <tr>\n",
       "      <th>0</th>\n",
       "      <td>Europe</td>\n",
       "      <td>1605667</td>\n",
       "    </tr>\n",
       "    <tr>\n",
       "      <th>1</th>\n",
       "      <td>Asia</td>\n",
       "      <td>1281118</td>\n",
       "    </tr>\n",
       "    <tr>\n",
       "      <th>2</th>\n",
       "      <td>North America</td>\n",
       "      <td>1276745</td>\n",
       "    </tr>\n",
       "    <tr>\n",
       "      <th>3</th>\n",
       "      <td>South America</td>\n",
       "      <td>1195692</td>\n",
       "    </tr>\n",
       "    <tr>\n",
       "      <th>4</th>\n",
       "      <td>Africa</td>\n",
       "      <td>236176</td>\n",
       "    </tr>\n",
       "    <tr>\n",
       "      <th>5</th>\n",
       "      <td>Oceania</td>\n",
       "      <td>5759</td>\n",
       "    </tr>\n",
       "  </tbody>\n",
       "</table>\n",
       "</div>"
      ],
      "text/plain": [
       "        location  TotalDeathCount\n",
       "0         Europe          1605667\n",
       "1           Asia          1281118\n",
       "2  North America          1276745\n",
       "3  South America          1195692\n",
       "4         Africa           236176\n",
       "5        Oceania             5759"
      ]
     },
     "execution_count": 31,
     "metadata": {},
     "output_type": "execute_result"
    }
   ],
   "source": [
    "sql_df"
   ]
  },
  {
   "cell_type": "markdown",
   "metadata": {},
   "source": [
    "Let's convert result into `Tableau_Tbl2.xlsx`"
   ]
  },
  {
   "cell_type": "code",
   "execution_count": 32,
   "metadata": {},
   "outputs": [],
   "source": [
    "with pd.ExcelWriter(\"Tableau_Tbl2.xlsx\") as Writer:\n",
    "  sql_df.to_excel(Writer, index=False)"
   ]
  },
  {
   "cell_type": "markdown",
   "metadata": {},
   "source": [
    "#### The Infection Rate of each Country"
   ]
  },
  {
   "cell_type": "code",
   "execution_count": 33,
   "metadata": {},
   "outputs": [],
   "source": [
    "sql_query = '''\n",
    "Select Location, Population, MAX(total_cases) as HighestInfectionCount,  Max((total_cases/population))*100 as PercentPopulationInfected\n",
    "From CovidDeaths\n",
    "Group by Location, Population\n",
    "order by PercentPopulationInfected desc\n",
    "'''"
   ]
  },
  {
   "cell_type": "code",
   "execution_count": 34,
   "metadata": {},
   "outputs": [],
   "source": [
    "sql_df = pd.read_sql_query(sql_query, my_conn)"
   ]
  },
  {
   "cell_type": "code",
   "execution_count": 35,
   "metadata": {},
   "outputs": [
    {
     "data": {
      "text/html": [
       "<div>\n",
       "<style scoped>\n",
       "    .dataframe tbody tr th:only-of-type {\n",
       "        vertical-align: middle;\n",
       "    }\n",
       "\n",
       "    .dataframe tbody tr th {\n",
       "        vertical-align: top;\n",
       "    }\n",
       "\n",
       "    .dataframe thead th {\n",
       "        text-align: right;\n",
       "    }\n",
       "</style>\n",
       "<table border=\"1\" class=\"dataframe\">\n",
       "  <thead>\n",
       "    <tr style=\"text-align: right;\">\n",
       "      <th></th>\n",
       "      <th>location</th>\n",
       "      <th>population</th>\n",
       "      <th>HighestInfectionCount</th>\n",
       "      <th>PercentPopulationInfected</th>\n",
       "    </tr>\n",
       "  </thead>\n",
       "  <tbody>\n",
       "    <tr>\n",
       "      <th>0</th>\n",
       "      <td>Andorra</td>\n",
       "      <td>77354.0</td>\n",
       "      <td>35028.0</td>\n",
       "      <td>45.282726</td>\n",
       "    </tr>\n",
       "    <tr>\n",
       "      <th>1</th>\n",
       "      <td>Gibraltar</td>\n",
       "      <td>33691.0</td>\n",
       "      <td>12277.0</td>\n",
       "      <td>36.439999</td>\n",
       "    </tr>\n",
       "    <tr>\n",
       "      <th>2</th>\n",
       "      <td>Seychelles</td>\n",
       "      <td>98910.0</td>\n",
       "      <td>35606.0</td>\n",
       "      <td>35.998382</td>\n",
       "    </tr>\n",
       "    <tr>\n",
       "      <th>3</th>\n",
       "      <td>San Marino</td>\n",
       "      <td>34010.0</td>\n",
       "      <td>11995.0</td>\n",
       "      <td>35.269039</td>\n",
       "    </tr>\n",
       "    <tr>\n",
       "      <th>4</th>\n",
       "      <td>Montenegro</td>\n",
       "      <td>628051.0</td>\n",
       "      <td>215950.0</td>\n",
       "      <td>34.384150</td>\n",
       "    </tr>\n",
       "    <tr>\n",
       "      <th>...</th>\n",
       "      <td>...</td>\n",
       "      <td>...</td>\n",
       "      <td>...</td>\n",
       "      <td>...</td>\n",
       "    </tr>\n",
       "    <tr>\n",
       "      <th>233</th>\n",
       "      <td>Pitcairn</td>\n",
       "      <td>47.0</td>\n",
       "      <td>NaN</td>\n",
       "      <td>NaN</td>\n",
       "    </tr>\n",
       "    <tr>\n",
       "      <th>234</th>\n",
       "      <td>Sint Maarten (Dutch part)</td>\n",
       "      <td>43421.0</td>\n",
       "      <td>NaN</td>\n",
       "      <td>NaN</td>\n",
       "    </tr>\n",
       "    <tr>\n",
       "      <th>235</th>\n",
       "      <td>Tokelau</td>\n",
       "      <td>1368.0</td>\n",
       "      <td>NaN</td>\n",
       "      <td>NaN</td>\n",
       "    </tr>\n",
       "    <tr>\n",
       "      <th>236</th>\n",
       "      <td>Turkmenistan</td>\n",
       "      <td>6117933.0</td>\n",
       "      <td>NaN</td>\n",
       "      <td>NaN</td>\n",
       "    </tr>\n",
       "    <tr>\n",
       "      <th>237</th>\n",
       "      <td>Tuvalu</td>\n",
       "      <td>11925.0</td>\n",
       "      <td>NaN</td>\n",
       "      <td>NaN</td>\n",
       "    </tr>\n",
       "  </tbody>\n",
       "</table>\n",
       "<p>238 rows × 4 columns</p>\n",
       "</div>"
      ],
      "text/plain": [
       "                      location  population  HighestInfectionCount  \\\n",
       "0                      Andorra     77354.0                35028.0   \n",
       "1                    Gibraltar     33691.0                12277.0   \n",
       "2                   Seychelles     98910.0                35606.0   \n",
       "3                   San Marino     34010.0                11995.0   \n",
       "4                   Montenegro    628051.0               215950.0   \n",
       "..                         ...         ...                    ...   \n",
       "233                   Pitcairn        47.0                    NaN   \n",
       "234  Sint Maarten (Dutch part)     43421.0                    NaN   \n",
       "235                    Tokelau      1368.0                    NaN   \n",
       "236               Turkmenistan   6117933.0                    NaN   \n",
       "237                     Tuvalu     11925.0                    NaN   \n",
       "\n",
       "     PercentPopulationInfected  \n",
       "0                    45.282726  \n",
       "1                    36.439999  \n",
       "2                    35.998382  \n",
       "3                    35.269039  \n",
       "4                    34.384150  \n",
       "..                         ...  \n",
       "233                        NaN  \n",
       "234                        NaN  \n",
       "235                        NaN  \n",
       "236                        NaN  \n",
       "237                        NaN  \n",
       "\n",
       "[238 rows x 4 columns]"
      ]
     },
     "execution_count": 35,
     "metadata": {},
     "output_type": "execute_result"
    }
   ],
   "source": [
    "sql_df"
   ]
  },
  {
   "cell_type": "markdown",
   "metadata": {},
   "source": [
    "Let's convert result into `Tableau_Tbl3.xlsx`"
   ]
  },
  {
   "cell_type": "code",
   "execution_count": 36,
   "metadata": {},
   "outputs": [],
   "source": [
    "with pd.ExcelWriter(\"Tableau_Tbl3.xlsx\") as Writer:\n",
    "  sql_df.to_excel(Writer, index=False)"
   ]
  },
  {
   "cell_type": "markdown",
   "metadata": {},
   "source": [
    "#### Placeholder..."
   ]
  },
  {
   "cell_type": "code",
   "execution_count": 39,
   "metadata": {},
   "outputs": [],
   "source": [
    "sql_query = '''\n",
    "Select Location, Population,date, MAX(total_cases) as HighestInfectionCount,  Max((total_cases/population))*100 as PercentPopulationInfected\n",
    "From CovidDeaths\n",
    "Group by Location, Population, date\n",
    "order by PercentPopulationInfected desc\n",
    "'''"
   ]
  },
  {
   "cell_type": "code",
   "execution_count": 40,
   "metadata": {},
   "outputs": [],
   "source": [
    "sql_df = pd.read_sql_query(sql_query, my_conn)"
   ]
  },
  {
   "cell_type": "code",
   "execution_count": 41,
   "metadata": {},
   "outputs": [
    {
     "data": {
      "text/html": [
       "<div>\n",
       "<style scoped>\n",
       "    .dataframe tbody tr th:only-of-type {\n",
       "        vertical-align: middle;\n",
       "    }\n",
       "\n",
       "    .dataframe tbody tr th {\n",
       "        vertical-align: top;\n",
       "    }\n",
       "\n",
       "    .dataframe thead th {\n",
       "        text-align: right;\n",
       "    }\n",
       "</style>\n",
       "<table border=\"1\" class=\"dataframe\">\n",
       "  <thead>\n",
       "    <tr style=\"text-align: right;\">\n",
       "      <th></th>\n",
       "      <th>location</th>\n",
       "      <th>population</th>\n",
       "      <th>date</th>\n",
       "      <th>HighestInfectionCount</th>\n",
       "      <th>PercentPopulationInfected</th>\n",
       "    </tr>\n",
       "  </thead>\n",
       "  <tbody>\n",
       "    <tr>\n",
       "      <th>0</th>\n",
       "      <td>Andorra</td>\n",
       "      <td>77354.0</td>\n",
       "      <td>2022-01-26</td>\n",
       "      <td>35028.0</td>\n",
       "      <td>45.282726</td>\n",
       "    </tr>\n",
       "    <tr>\n",
       "      <th>1</th>\n",
       "      <td>Andorra</td>\n",
       "      <td>77354.0</td>\n",
       "      <td>2022-01-25</td>\n",
       "      <td>34701.0</td>\n",
       "      <td>44.859994</td>\n",
       "    </tr>\n",
       "    <tr>\n",
       "      <th>2</th>\n",
       "      <td>Andorra</td>\n",
       "      <td>77354.0</td>\n",
       "      <td>2022-01-21</td>\n",
       "      <td>33025.0</td>\n",
       "      <td>42.693332</td>\n",
       "    </tr>\n",
       "    <tr>\n",
       "      <th>3</th>\n",
       "      <td>Andorra</td>\n",
       "      <td>77354.0</td>\n",
       "      <td>2022-01-22</td>\n",
       "      <td>33025.0</td>\n",
       "      <td>42.693332</td>\n",
       "    </tr>\n",
       "    <tr>\n",
       "      <th>4</th>\n",
       "      <td>Andorra</td>\n",
       "      <td>77354.0</td>\n",
       "      <td>2022-01-23</td>\n",
       "      <td>33025.0</td>\n",
       "      <td>42.693332</td>\n",
       "    </tr>\n",
       "    <tr>\n",
       "      <th>...</th>\n",
       "      <td>...</td>\n",
       "      <td>...</td>\n",
       "      <td>...</td>\n",
       "      <td>...</td>\n",
       "      <td>...</td>\n",
       "    </tr>\n",
       "    <tr>\n",
       "      <th>157471</th>\n",
       "      <td>Tuvalu</td>\n",
       "      <td>11925.0</td>\n",
       "      <td>2021-10-18</td>\n",
       "      <td>NaN</td>\n",
       "      <td>NaN</td>\n",
       "    </tr>\n",
       "    <tr>\n",
       "      <th>157472</th>\n",
       "      <td>Tuvalu</td>\n",
       "      <td>11925.0</td>\n",
       "      <td>2021-10-19</td>\n",
       "      <td>NaN</td>\n",
       "      <td>NaN</td>\n",
       "    </tr>\n",
       "    <tr>\n",
       "      <th>157473</th>\n",
       "      <td>Tuvalu</td>\n",
       "      <td>11925.0</td>\n",
       "      <td>2021-10-20</td>\n",
       "      <td>NaN</td>\n",
       "      <td>NaN</td>\n",
       "    </tr>\n",
       "    <tr>\n",
       "      <th>157474</th>\n",
       "      <td>Tuvalu</td>\n",
       "      <td>11925.0</td>\n",
       "      <td>2021-10-21</td>\n",
       "      <td>NaN</td>\n",
       "      <td>NaN</td>\n",
       "    </tr>\n",
       "    <tr>\n",
       "      <th>157475</th>\n",
       "      <td>Tuvalu</td>\n",
       "      <td>11925.0</td>\n",
       "      <td>2021-10-22</td>\n",
       "      <td>NaN</td>\n",
       "      <td>NaN</td>\n",
       "    </tr>\n",
       "  </tbody>\n",
       "</table>\n",
       "<p>157476 rows × 5 columns</p>\n",
       "</div>"
      ],
      "text/plain": [
       "       location  population        date  HighestInfectionCount  \\\n",
       "0       Andorra     77354.0  2022-01-26                35028.0   \n",
       "1       Andorra     77354.0  2022-01-25                34701.0   \n",
       "2       Andorra     77354.0  2022-01-21                33025.0   \n",
       "3       Andorra     77354.0  2022-01-22                33025.0   \n",
       "4       Andorra     77354.0  2022-01-23                33025.0   \n",
       "...         ...         ...         ...                    ...   \n",
       "157471   Tuvalu     11925.0  2021-10-18                    NaN   \n",
       "157472   Tuvalu     11925.0  2021-10-19                    NaN   \n",
       "157473   Tuvalu     11925.0  2021-10-20                    NaN   \n",
       "157474   Tuvalu     11925.0  2021-10-21                    NaN   \n",
       "157475   Tuvalu     11925.0  2021-10-22                    NaN   \n",
       "\n",
       "        PercentPopulationInfected  \n",
       "0                       45.282726  \n",
       "1                       44.859994  \n",
       "2                       42.693332  \n",
       "3                       42.693332  \n",
       "4                       42.693332  \n",
       "...                           ...  \n",
       "157471                        NaN  \n",
       "157472                        NaN  \n",
       "157473                        NaN  \n",
       "157474                        NaN  \n",
       "157475                        NaN  \n",
       "\n",
       "[157476 rows x 5 columns]"
      ]
     },
     "execution_count": 41,
     "metadata": {},
     "output_type": "execute_result"
    }
   ],
   "source": [
    "sql_df"
   ]
  },
  {
   "cell_type": "markdown",
   "metadata": {},
   "source": [
    "Let's convert result into `Tableau_Tbl4.xlsx`"
   ]
  },
  {
   "cell_type": "code",
   "execution_count": 42,
   "metadata": {},
   "outputs": [],
   "source": [
    "with pd.ExcelWriter(\"Tableau_Tbl4.xlsx\") as Writer:\n",
    "  sql_df.to_excel(Writer, index=False)"
   ]
  }
 ],
 "metadata": {
  "colab": {
   "authorship_tag": "ABX9TyNy3dPd9746lsfuZs9i5vGB",
   "collapsed_sections": [],
   "name": "COVID-19 Data SQL Results to Excel.ipynb",
   "provenance": []
  },
  "kernelspec": {
   "display_name": "Python 3 (ipykernel)",
   "language": "python",
   "name": "python3"
  },
  "language_info": {
   "codemirror_mode": {
    "name": "ipython",
    "version": 3
   },
   "file_extension": ".py",
   "mimetype": "text/x-python",
   "name": "python",
   "nbconvert_exporter": "python",
   "pygments_lexer": "ipython3",
   "version": "3.8.8"
  }
 },
 "nbformat": 4,
 "nbformat_minor": 1
}
